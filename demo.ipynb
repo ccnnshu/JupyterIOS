{
 "cells": [
  {
   "cell_type": "markdown",
   "metadata": {
    "colab_type": "text",
    "id": "r2sygNV1OvMd"
   },
   "source": [
    "# Introduction to Python"
   ]
  },
  {
   "cell_type": "markdown",
   "metadata": {
    "colab_type": "text",
    "id": "cwH4xndwO2FD"
   },
   "source": [
    "## Hello, World! in Python\n",
    "\n",
    "Press Ctrl + Enter to run a cell. The print function will print the output in the line below the cell."
   ]
  },
  {
   "cell_type": "code",
   "execution_count": 1,
   "metadata": {
    "colab": {},
    "colab_type": "code",
    "id": "pOLO5jp7OvMh"
   },
   "outputs": [
    {
     "name": "stdout",
     "output_type": "stream",
     "text": [
      "Hello, World!\n"
     ]
    }
   ],
   "source": [
    "print('Hello, World!')"
   ]
  },
  {
   "cell_type": "markdown",
   "metadata": {
    "colab_type": "text",
    "id": "HIaRqn7POvMq"
   },
   "source": [
    "## Arithmetic Operations"
   ]
  },
  {
   "cell_type": "code",
   "execution_count": 2,
   "metadata": {
    "colab": {},
    "colab_type": "code",
    "id": "aruauKa0OvMm"
   },
   "outputs": [
    {
     "data": {
      "text/plain": [
       "8"
      ]
     },
     "execution_count": 2,
     "metadata": {},
     "output_type": "execute_result"
    }
   ],
   "source": [
    "3 + 5 ## Addition"
   ]
  },
  {
   "cell_type": "code",
   "execution_count": 3,
   "metadata": {},
   "outputs": [
    {
     "data": {
      "text/plain": [
       "3"
      ]
     },
     "execution_count": 3,
     "metadata": {},
     "output_type": "execute_result"
    }
   ],
   "source": [
    "8 - 5 ## Subtraction"
   ]
  },
  {
   "cell_type": "code",
   "execution_count": 4,
   "metadata": {},
   "outputs": [
    {
     "data": {
      "text/plain": [
       "20"
      ]
     },
     "execution_count": 4,
     "metadata": {},
     "output_type": "execute_result"
    }
   ],
   "source": [
    "5 * 4 ## Multiplication"
   ]
  },
  {
   "cell_type": "code",
   "execution_count": 5,
   "metadata": {},
   "outputs": [
    {
     "data": {
      "text/plain": [
       "2.15"
      ]
     },
     "execution_count": 5,
     "metadata": {},
     "output_type": "execute_result"
    }
   ],
   "source": [
    "4.3 / 2 ## Division"
   ]
  },
  {
   "cell_type": "code",
   "execution_count": 6,
   "metadata": {
    "colab": {},
    "colab_type": "code",
    "id": "9VClfZn8QcRC"
   },
   "outputs": [
    {
     "data": {
      "text/plain": [
       "0.8333333333333334"
      ]
     },
     "execution_count": 6,
     "metadata": {},
     "output_type": "execute_result"
    }
   ],
   "source": [
    "5/6 ## Decimal/\"floating point\" division"
   ]
  },
  {
   "cell_type": "markdown",
   "metadata": {},
   "source": [
    "#### Floor Division ( // )\n",
    "This operator will divide two operands and **round down** the result.\n",
    "\n",
    "**Example**\n",
    "13 / 7 = 1.857 \n",
    "13 // 7 = 1 (1.857 is rounded down)\n",
    "\n",
    "-13 // 7 = -2 (-1.857 is **rounded down**)"
   ]
  },
  {
   "cell_type": "code",
   "execution_count": 7,
   "metadata": {},
   "outputs": [
    {
     "data": {
      "text/plain": [
       "0"
      ]
     },
     "execution_count": 7,
     "metadata": {},
     "output_type": "execute_result"
    }
   ],
   "source": [
    "5//7"
   ]
  },
  {
   "cell_type": "code",
   "execution_count": 8,
   "metadata": {
    "colab": {},
    "colab_type": "code",
    "id": "rxmX0RN84Ik6"
   },
   "outputs": [
    {
     "data": {
      "text/plain": [
       "-2"
      ]
     },
     "execution_count": 8,
     "metadata": {},
     "output_type": "execute_result"
    }
   ],
   "source": [
    "-13//7 ## Floor division (note the difference compared to above!)"
   ]
  },
  {
   "cell_type": "code",
   "execution_count": 9,
   "metadata": {},
   "outputs": [
    {
     "data": {
      "text/plain": [
       "2"
      ]
     },
     "execution_count": 9,
     "metadata": {},
     "output_type": "execute_result"
    }
   ],
   "source": [
    "8 % 6 ## Remainder operation (Modulus)"
   ]
  },
  {
   "cell_type": "code",
   "execution_count": 10,
   "metadata": {
    "colab": {},
    "colab_type": "code",
    "id": "bAiIvbMCQOag"
   },
   "outputs": [
    {
     "data": {
      "text/plain": [
       "125"
      ]
     },
     "execution_count": 10,
     "metadata": {},
     "output_type": "execute_result"
    }
   ],
   "source": [
    "5**3 ## An exponent operation "
   ]
  },
  {
   "cell_type": "code",
   "execution_count": 11,
   "metadata": {
    "colab": {},
    "colab_type": "code",
    "id": "v_Z35rSQ61LT"
   },
   "outputs": [
    {
     "data": {
      "text/plain": [
       "False"
      ]
     },
     "execution_count": 11,
     "metadata": {},
     "output_type": "execute_result"
    }
   ],
   "source": [
    "not True ## Negating a boolean"
   ]
  },
  {
   "cell_type": "code",
   "execution_count": 12,
   "metadata": {
    "colab": {},
    "colab_type": "code",
    "id": "xJjDP3wa66E1"
   },
   "outputs": [
    {
     "data": {
      "text/plain": [
       "True"
      ]
     },
     "execution_count": 12,
     "metadata": {},
     "output_type": "execute_result"
    }
   ],
   "source": [
    "not False"
   ]
  },
  {
   "cell_type": "markdown",
   "metadata": {
    "colab_type": "text",
    "id": "50HMQVdZOvMq"
   },
   "source": [
    "#### A note about Jupyter Notebooks:\n",
    "\n",
    "Jupyter Notebooks will be default print only the output to the last line of code."
   ]
  },
  {
   "cell_type": "code",
   "execution_count": 13,
   "metadata": {},
   "outputs": [
    {
     "data": {
      "text/plain": [
       "2"
      ]
     },
     "execution_count": 13,
     "metadata": {},
     "output_type": "execute_result"
    }
   ],
   "source": [
    "2 + 3\n",
    "5 // 2"
   ]
  },
  {
   "cell_type": "markdown",
   "metadata": {},
   "source": [
    "To print multiple lines, use the print function."
   ]
  },
  {
   "cell_type": "code",
   "execution_count": 14,
   "metadata": {
    "colab": {},
    "colab_type": "code",
    "id": "f3zNPJvzOvMr"
   },
   "outputs": [
    {
     "name": "stdout",
     "output_type": "stream",
     "text": [
      "5\n",
      "2\n"
     ]
    }
   ],
   "source": [
    "## Print the result of two calculations\n",
    "print(2 + 3)\n",
    "print(5 // 2)"
   ]
  },
  {
   "cell_type": "markdown",
   "metadata": {
    "colab_type": "text",
    "id": "-u2MHh2KOvMz"
   },
   "source": [
    "## Introduction to Data Types\n",
    "\n"
   ]
  },
  {
   "cell_type": "markdown",
   "metadata": {
    "colab_type": "text",
    "id": "Y5HgPbSxz8bm"
   },
   "source": [
    "### List of data types\n",
    "\n",
    "\n",
    "*   string : `\"Hello there\"`\n",
    "*   integer : `7`\n",
    "*   decimal (float) : `7.0`\n",
    "*   boolean (true/false) : `True`\n",
    "*   complex numbers : `2 + 3j`\n",
    "\n",
    "Different operations are defined for each data type. For instance, you can *negate* any boolean value (turn a `True` into a `False`, or vice versa); you can *concatenate* strings together; you can *add* or *subtract* integers and decimals.\n",
    "\n",
    "You can check the type of any data using the `type()` function\n",
    "\n",
    "\n",
    "\n",
    "\n",
    "\n",
    "\n",
    "\n"
   ]
  },
  {
   "cell_type": "code",
   "execution_count": 15,
   "metadata": {
    "colab": {},
    "colab_type": "code",
    "id": "BkWzf2kj07qK",
    "scrolled": true
   },
   "outputs": [
    {
     "name": "stdout",
     "output_type": "stream",
     "text": [
      "<class 'str'>\n",
      "<class 'int'>\n",
      "<class 'float'>\n",
      "<class 'bool'>\n",
      "<class 'complex'>\n"
     ]
    }
   ],
   "source": [
    "print(type('Hello there'))\n",
    "print(type(4//3)) ## notice that you can perform operations on numbers and pass as argument to a function\n",
    "print(type(5.0))\n",
    "print(type(True))\n",
    "print(type(2+3j))"
   ]
  },
  {
   "cell_type": "markdown",
   "metadata": {},
   "source": [
    "### String\n",
    "\n",
    "A string can be empty or can contain as many characters as you like (constrained by your computer's memory)"
   ]
  },
  {
   "cell_type": "code",
   "execution_count": 16,
   "metadata": {},
   "outputs": [
    {
     "ename": "SyntaxError",
     "evalue": "invalid syntax (<ipython-input-16-53fcefccdf9a>, line 2)",
     "output_type": "error",
     "traceback": [
      "\u001b[1;36m  File \u001b[1;32m\"<ipython-input-16-53fcefccdf9a>\"\u001b[1;36m, line \u001b[1;32m2\u001b[0m\n\u001b[1;33m    print('This string contains a single quote (') character.')\u001b[0m\n\u001b[1;37m                                                           ^\u001b[0m\n\u001b[1;31mSyntaxError\u001b[0m\u001b[1;31m:\u001b[0m invalid syntax\n"
     ]
    }
   ],
   "source": [
    "## Special characters in strings\n",
    "print('This string contains a single quote (') character.')"
   ]
  },
  {
   "cell_type": "code",
   "execution_count": 17,
   "metadata": {},
   "outputs": [
    {
     "name": "stdout",
     "output_type": "stream",
     "text": [
      "This string contains a single quote (') character.\n",
      "This string contains a double quote (\") character.\n"
     ]
    }
   ],
   "source": [
    "## Fix this by using \"\" or '' quotes\n",
    "print(\"This string contains a single quote (') character.\")\n",
    "print('This string contains a double quote (\") character.')"
   ]
  },
  {
   "cell_type": "code",
   "execution_count": 18,
   "metadata": {},
   "outputs": [
    {
     "name": "stdout",
     "output_type": "stream",
     "text": [
      "This string contains a single quote (') character.\n",
      "This string contains a double quote (\") character.\n",
      "This string contains a back slash (\\) character.\n",
      "This string contains a new line character but it is ignored.\n"
     ]
    }
   ],
   "source": [
    "## OR \n",
    "## Escape Sequences (\\)\n",
    "print('This string contains a single quote (\\') character.')\n",
    "print(\"This string contains a double quote (\\\") character.\")\n",
    "print(\"This string contains a back slash (\\\\) character.\")\n",
    "print(\"This string contains a new line\\\n",
    " character but it is ignored.\")"
   ]
  },
  {
   "cell_type": "code",
   "execution_count": 19,
   "metadata": {},
   "outputs": [
    {
     "name": "stdout",
     "output_type": "stream",
     "text": [
      "This prints a new \n",
      "line\n",
      "\n",
      "\n",
      "This prints a \t tab\n"
     ]
    }
   ],
   "source": [
    "## Special characters\n",
    "print(\"This prints a new \\nline\")\n",
    "print(\"\\n\")\n",
    "print(\"This prints a \\t tab\")"
   ]
  },
  {
   "cell_type": "markdown",
   "metadata": {},
   "source": [
    "### Integer"
   ]
  },
  {
   "cell_type": "code",
   "execution_count": 20,
   "metadata": {},
   "outputs": [
    {
     "name": "stdout",
     "output_type": "stream",
     "text": [
      "11\n",
      "3\n",
      "9\n",
      "17\n"
     ]
    }
   ],
   "source": [
    "## Integers have no upper limit in Python and are only constrained by your computer's memory.\n",
    "\n",
    "## By default integers are interpreted as base 10. Here is how they can be interpreted in different bases.\n",
    "print(11) ## base 10\n",
    "print(0b11) ## prefix 0b indicates base 2\n",
    "print(0o11) ## 0o indicates base 8\n",
    "print(0x11) ## 0x indicates base 16"
   ]
  },
  {
   "cell_type": "markdown",
   "metadata": {},
   "source": [
    "### Float"
   ]
  },
  {
   "cell_type": "code",
   "execution_count": 21,
   "metadata": {},
   "outputs": [
    {
     "data": {
      "text/plain": [
       "0.1986754890237823"
      ]
     },
     "execution_count": 21,
     "metadata": {},
     "output_type": "execute_result"
    }
   ],
   "source": [
    "# A float is accurate up to 15 decimal places in printing\n",
    "0.198675489023782295 # 16th point is rounded"
   ]
  },
  {
   "cell_type": "code",
   "execution_count": 22,
   "metadata": {},
   "outputs": [
    {
     "name": "stdout",
     "output_type": "stream",
     "text": [
      "0.00042\n",
      "-0.00042\n",
      "<class 'float'>\n"
     ]
    }
   ],
   "source": [
    "# Scientific Notation\n",
    "print(4.2e-4)\n",
    "print(-4.2e-4)\n",
    "print(type(-4.2e-5))"
   ]
  },
  {
   "cell_type": "code",
   "execution_count": 23,
   "metadata": {},
   "outputs": [
    {
     "name": "stdout",
     "output_type": "stream",
     "text": [
      "1.7e+308\n",
      "inf\n",
      "-inf\n"
     ]
    }
   ],
   "source": [
    "# Upper Limit of Float Data Type: 1.8e308\n",
    "print(1.7e308)\n",
    "print(1.8e308) # will be printed as inf\n",
    "print(-1.8e308) # will be printed as -inf"
   ]
  },
  {
   "cell_type": "code",
   "execution_count": 24,
   "metadata": {},
   "outputs": [
    {
     "name": "stdout",
     "output_type": "stream",
     "text": [
      "5e-324\n",
      "0.0\n"
     ]
    }
   ],
   "source": [
    "# Floating type precision\n",
    "print(5e-324) # Precision in Python\n",
    "print(1e-325) # will print zero"
   ]
  },
  {
   "cell_type": "markdown",
   "metadata": {},
   "source": [
    "### Boolean\n",
    "\n",
    "True in int is 1 <br>\n",
    "False in int is 0"
   ]
  },
  {
   "cell_type": "markdown",
   "metadata": {},
   "source": [
    "### Data Type Arithmetic"
   ]
  },
  {
   "cell_type": "code",
   "execution_count": 25,
   "metadata": {},
   "outputs": [
    {
     "name": "stdout",
     "output_type": "stream",
     "text": [
      "4.0\n",
      "0.0\n",
      "(3+2j)\n",
      "(4+4j)\n",
      "(5+5j)\n"
     ]
    }
   ],
   "source": [
    "## Int to Float\n",
    "print(2 + 2.0)\n",
    "print(2 // 3.0) # performs floor division, then converts to float!\n",
    "\n",
    "## Int to Complex\n",
    "print(2 + 1 + 2j)\n",
    "\n",
    "## Float to Complex\n",
    "print(3.0 + 1 + 4j) # no conversion\n",
    "print(3.0 + 2 + 5.0j) # no conversion"
   ]
  },
  {
   "cell_type": "markdown",
   "metadata": {},
   "source": [
    "## Variables\n",
    "\n",
    "We might want to store data temporarily in a \"container\" such that we can modify it subject to some conditions later. In this case, we can assign it to a variable. This is called **defining** a variable."
   ]
  },
  {
   "cell_type": "code",
   "execution_count": 26,
   "metadata": {
    "colab": {},
    "colab_type": "code",
    "id": "gELd99nzOvMu"
   },
   "outputs": [],
   "source": [
    "## Defining a variable\n",
    "x = 5\n",
    "y = 7.0"
   ]
  },
  {
   "cell_type": "code",
   "execution_count": 27,
   "metadata": {
    "colab": {},
    "colab_type": "code",
    "id": "drkCFJxWOvMw"
   },
   "outputs": [
    {
     "name": "stdout",
     "output_type": "stream",
     "text": [
      "1.0\n"
     ]
    }
   ],
   "source": [
    "## Combining function + variables + operations\n",
    "print(y // x)"
   ]
  },
  {
   "cell_type": "code",
   "execution_count": 28,
   "metadata": {
    "colab": {},
    "colab_type": "code",
    "id": "wJThLh_6OvM1"
   },
   "outputs": [],
   "source": [
    "## string data is assigned using \"\" or ''\n",
    "my_city = \"New York\"\n",
    "my_country = 'USA'"
   ]
  },
  {
   "cell_type": "markdown",
   "metadata": {
    "colab_type": "text",
    "id": "d3oMhfGoOvM6"
   },
   "source": [
    "Notice that the actual data (right-side of the equals sign) is being highlighted in different colors across the two variables. This is happening because one variable contains text, or **string** data, while the other contains a number (an **integer**)\n",
    "\n",
    "These are two of the essential \"data types\"."
   ]
  },
  {
   "cell_type": "code",
   "execution_count": 29,
   "metadata": {
    "colab": {},
    "colab_type": "code",
    "id": "NtTDSMK9OvM9"
   },
   "outputs": [],
   "source": [
    "## We can figure out how many floors we'll have to travel to get there\n",
    "\n",
    "z = x**2 + y / 3"
   ]
  },
  {
   "cell_type": "code",
   "execution_count": 30,
   "metadata": {
    "colab": {},
    "colab_type": "code",
    "id": "5GdsaK_sOvM_"
   },
   "outputs": [
    {
     "name": "stdout",
     "output_type": "stream",
     "text": [
      "27.333333333333332\n"
     ]
    }
   ],
   "source": [
    "print(z)"
   ]
  },
  {
   "cell_type": "markdown",
   "metadata": {
    "colab_type": "text",
    "id": "FLHd5ejF5nGv"
   },
   "source": [
    "Using variables allows us to write generalized code that can serve as a formula, even as the specific values saved in these variables change."
   ]
  },
  {
   "cell_type": "markdown",
   "metadata": {
    "colab_type": "text",
    "id": "qdS5EHCDptCb"
   },
   "source": [
    "### Reserved Keywords\n",
    "\n",
    "\n",
    "In Python, some words are \"reserved\" and cannot be used as names for variables or functions (identifiers).\n",
    "\n",
    "For instance, the word `True`, when it does not appear within quotation marks, will always evaluate to the _value_ **True** (and similar for `False`). Other reserved tokens are those that comprise the actual language, such as `if`, `else`, `return`, and so on.\n",
    "\n",
    "https://www.programiz.com/python-programming/keyword-list\n"
   ]
  },
  {
   "cell_type": "code",
   "execution_count": 31,
   "metadata": {
    "colab": {},
    "colab_type": "code",
    "id": "PfOBYjM2rr7M"
   },
   "outputs": [
    {
     "ename": "SyntaxError",
     "evalue": "can't assign to keyword (<ipython-input-31-8c226123a853>, line 3)",
     "output_type": "error",
     "traceback": [
      "\u001b[1;36m  File \u001b[1;32m\"<ipython-input-31-8c226123a853>\"\u001b[1;36m, line \u001b[1;32m3\u001b[0m\n\u001b[1;33m    True = 3.4 ## Doesn't work!\u001b[0m\n\u001b[1;37m                               ^\u001b[0m\n\u001b[1;31mSyntaxError\u001b[0m\u001b[1;31m:\u001b[0m can't assign to keyword\n"
     ]
    }
   ],
   "source": [
    "var1 = 10\n",
    "var2 = \"Hey!\"\n",
    "True = 3.4 ## Doesn't work!\n"
   ]
  },
  {
   "cell_type": "code",
   "execution_count": 32,
   "metadata": {
    "colab": {},
    "colab_type": "code",
    "id": "3pP-40r_r2B4"
   },
   "outputs": [
    {
     "data": {
      "text/plain": [
       "True"
      ]
     },
     "execution_count": 32,
     "metadata": {},
     "output_type": "execute_result"
    }
   ],
   "source": [
    "var3 = True ## This, however, is completely fine...\n",
    "var3"
   ]
  },
  {
   "cell_type": "markdown",
   "metadata": {},
   "source": [
    "## Quiz 1: Data Types and Variables\n",
    "\n",
    "Run the code to get the answers"
   ]
  },
  {
   "cell_type": "code",
   "execution_count": 1,
   "metadata": {},
   "outputs": [
    {
     "name": "stdout",
     "output_type": "stream",
     "text": [
      "5\n",
      "0\n",
      "4.2000000000000004e-15\n",
      "5e-324\n",
      "6.333333333333333\n",
      "4\n",
      "Hello, There\n",
      "4.0\n"
     ]
    }
   ],
   "source": [
    "# A)\n",
    "print(4 + True)\n",
    "\n",
    "# B)\n",
    "print(True * False)\n",
    "\n",
    "# C)\n",
    "print(3e-15 + 4e-16 + 8e-16) # see the point I am making haha\n",
    "\n",
    "# D)\n",
    "print(2e-325 + 5e-324)\n",
    "\n",
    "# E)\n",
    "print(4 + 1 / 3 + 2)\n",
    "\n",
    "# F)\n",
    "print(4 + 1 // (3 + 2))\n",
    "\n",
    "# G)\n",
    "print(\"Hello, \" + \"There\")\n",
    "\n",
    "# H)\n",
    "print(2**3/2)"
   ]
  },
  {
   "cell_type": "markdown",
   "metadata": {
    "colab_type": "text",
    "id": "BfOoDNmYRtRk"
   },
   "source": [
    "# Conditional Statements\n",
    "\n",
    "Conditional if-statements are a very big part of programming with any language. We can think about it first using some pseudocode:\n",
    "\n",
    "```\n",
    "if ( it is raining outside ):\n",
    "  grab an umbrella before leaving\n",
    "else:\n",
    "  leave the umbrella at home\n",
    "```\n",
    "\n",
    "Conditional statements are a way to specify sections of code that should be executed only when a condition is true. You can think of the if and else lines as being gatekeepers to the code that exists right below them.\n"
   ]
  },
  {
   "cell_type": "code",
   "execution_count": 34,
   "metadata": {},
   "outputs": [
    {
     "name": "stdout",
     "output_type": "stream",
     "text": [
      "x is less than 5\n"
     ]
    }
   ],
   "source": [
    "## Only when the condition between the parentheses evaluates to True do we\n",
    "## evaluate the associated code in the body\n",
    "\n",
    "# if without else\n",
    "x = 5\n",
    "if x > 5:\n",
    "    print(\"x is more than 5\")\n",
    "print(\"x is less than 5\")"
   ]
  },
  {
   "cell_type": "code",
   "execution_count": 35,
   "metadata": {
    "colab": {},
    "colab_type": "code",
    "id": "lG1pLhNWR53E"
   },
   "outputs": [
    {
     "name": "stdout",
     "output_type": "stream",
     "text": [
      "x is less than 5\n",
      "x is equal to 5\n"
     ]
    }
   ],
   "source": [
    "# if with else\n",
    "x = 5\n",
    "if x > 5:\n",
    "    print(\"x is more than 5\")\n",
    "else:\n",
    "    print(\"x is less than 5\")\n",
    "print(\"x is equal to 5\")"
   ]
  },
  {
   "cell_type": "code",
   "execution_count": 36,
   "metadata": {
    "colab": {},
    "colab_type": "code",
    "id": "nJaqlUbkvwQH"
   },
   "outputs": [
    {
     "name": "stdout",
     "output_type": "stream",
     "text": [
      "x is equal to 5\n"
     ]
    }
   ],
   "source": [
    "# if...elif...else\n",
    "x = 5\n",
    "if x > 5:\n",
    "    print(\"x is more than 5\")\n",
    "elif x < 5:\n",
    "    print(\"x is less than 5\")\n",
    "else: \n",
    "    print(\"x is equal to 5\")"
   ]
  },
  {
   "cell_type": "markdown",
   "metadata": {
    "colab_type": "text",
    "id": "XNuZHRJJQhg6"
   },
   "source": [
    "Multiple conditional statements can be written between the paranthesis, joined by the words \"or\" and \"and\". These words are logical operators in Python.\n",
    "\n",
    "As long as the statement within the paranthesis evaluates to a logical value (i.e., either **True** or **False**), it can be used within an if-statement."
   ]
  },
  {
   "cell_type": "code",
   "execution_count": 37,
   "metadata": {
    "colab": {},
    "colab_type": "code",
    "id": "QYYMjWs2QlR8"
   },
   "outputs": [
    {
     "data": {
      "text/plain": [
       "False"
      ]
     },
     "execution_count": 37,
     "metadata": {},
     "output_type": "execute_result"
    }
   ],
   "source": [
    " 3 > 5 and 3 > 1 "
   ]
  },
  {
   "cell_type": "code",
   "execution_count": 38,
   "metadata": {
    "colab": {},
    "colab_type": "code",
    "id": "TBKREkvgvsAR"
   },
   "outputs": [
    {
     "data": {
      "text/plain": [
       "True"
      ]
     },
     "execution_count": 38,
     "metadata": {},
     "output_type": "execute_result"
    }
   ],
   "source": [
    " 3 > 5 or 3 > 1 "
   ]
  },
  {
   "cell_type": "markdown",
   "metadata": {
    "colab_type": "text",
    "id": "qF_tt1_ETDxE"
   },
   "source": [
    "Statements on *both* sides of an \"and\" must evaluate to `True` for the interpreter to enter the body of code following it."
   ]
  },
  {
   "cell_type": "code",
   "execution_count": 39,
   "metadata": {
    "colab": {},
    "colab_type": "code",
    "id": "2ogx6Lm57Q0B"
   },
   "outputs": [
    {
     "name": "stdout",
     "output_type": "stream",
     "text": [
      "True\n",
      "True\n",
      "False\n",
      "False\n"
     ]
    }
   ],
   "source": [
    "## Testing equality\n",
    "\n",
    "print( 3 == (4 - 1) )\n",
    "print( 3 is (4 - 1) )\n",
    "## use the double equals to test equality, since single equals\n",
    "## is only used for assigning values\n",
    "## == is the same as 'is'\n",
    "\n",
    "print (3 != (4 - 1) )\n",
    "print (3 is not (4 - 1))\n",
    "## the != operator is the same as 'is not'"
   ]
  },
  {
   "cell_type": "markdown",
   "metadata": {
    "colab_type": "text",
    "id": "D6-FYlzH7Rul"
   },
   "source": [
    "### Nesting if-statements\n",
    "\n",
    "If-statements can be arbitrarily nested in your code:"
   ]
  },
  {
   "cell_type": "code",
   "execution_count": 40,
   "metadata": {},
   "outputs": [
    {
     "name": "stdout",
     "output_type": "stream",
     "text": [
      "Smaller\n"
     ]
    }
   ],
   "source": [
    "x = 5\n",
    "if x != 5:\n",
    "    print(\"Not Equal\")\n",
    "else:\n",
    "    if x > 5:\n",
    "        print(\"Larger\")\n",
    "    else:\n",
    "        print(\"Smaller\")"
   ]
  },
  {
   "cell_type": "code",
   "execution_count": 41,
   "metadata": {
    "colab": {},
    "colab_type": "code",
    "id": "b-WYmycv7Ufu"
   },
   "outputs": [
    {
     "name": "stdout",
     "output_type": "stream",
     "text": [
      "My random number is: 0.5602499200347987\n"
     ]
    }
   ],
   "source": [
    "## For this example, we'll import a function that generates random values\n",
    "from random import * # imports all the contents of the \"random\" library in Python\n",
    "                     # * is a wildcard character that means ALL\n",
    "\n",
    "## Here we use the random number generator to find some value\n",
    "## between 0 and 1\n",
    "random_number = random()\n",
    "print(\"My random number is: \" + str(random_number))"
   ]
  },
  {
   "cell_type": "code",
   "execution_count": 42,
   "metadata": {
    "colab": {},
    "colab_type": "code",
    "id": "LKtHyx3174B3"
   },
   "outputs": [
    {
     "name": "stdout",
     "output_type": "stream",
     "text": [
      "The number is greater than (or equal to) .5\n"
     ]
    }
   ],
   "source": [
    "if random_number < 0.5:\n",
    "    print(\"The number is less than .5\")\n",
    "    if random_number < 0.25:\n",
    "        print(\"... in fact, it's even less than .25\")\n",
    "else:\n",
    "    print(\"The number is greater than (or equal to) .5\")"
   ]
  },
  {
   "cell_type": "markdown",
   "metadata": {
    "colab_type": "text",
    "id": "2yhgt-2C7f1N"
   },
   "source": [
    "[Click here for an illustration](https://docs.google.com/drawings/d/1ql_x12TyNqkylYqe_tFrqJwbPGgC49qZ8I5wbv2eOtg/edit) of the logic in the if-statement above."
   ]
  },
  {
   "cell_type": "markdown",
   "metadata": {
    "colab_type": "text",
    "id": "OPLlevAm7GLB"
   },
   "source": [
    "What is the difference between Else-If and Nested If statements?"
   ]
  },
  {
   "cell_type": "markdown",
   "metadata": {},
   "source": [
    "## Quiz 2: Conditionals"
   ]
  },
  {
   "cell_type": "markdown",
   "metadata": {},
   "source": [
    "#### Question 1"
   ]
  },
  {
   "cell_type": "markdown",
   "metadata": {},
   "source": [
    "#### Question 3"
   ]
  },
  {
   "cell_type": "code",
   "execution_count": 6,
   "metadata": {},
   "outputs": [],
   "source": [
    "x = 5\n",
    "y = 10"
   ]
  },
  {
   "cell_type": "code",
   "execution_count": 7,
   "metadata": {},
   "outputs": [
    {
     "ename": "SyntaxError",
     "evalue": "invalid syntax (<ipython-input-7-a369438f35a3>, line 2)",
     "output_type": "error",
     "traceback": [
      "\u001b[1;36m  File \u001b[1;32m\"<ipython-input-7-a369438f35a3>\"\u001b[1;36m, line \u001b[1;32m2\u001b[0m\n\u001b[1;33m    if x < y: print('foo') else: print('bar')\u001b[0m\n\u001b[1;37m                              ^\u001b[0m\n\u001b[1;31mSyntaxError\u001b[0m\u001b[1;31m:\u001b[0m invalid syntax\n"
     ]
    }
   ],
   "source": [
    "# A)\n",
    "if x < y: print('foo') else: print('bar')"
   ]
  },
  {
   "cell_type": "code",
   "execution_count": 8,
   "metadata": {},
   "outputs": [
    {
     "name": "stdout",
     "output_type": "stream",
     "text": [
      "foo\n"
     ]
    }
   ],
   "source": [
    "# B)\n",
    "if x < y: print('foo')\n",
    "elif y < x: print('bar')\n",
    "else: print('baz')"
   ]
  },
  {
   "cell_type": "code",
   "execution_count": 9,
   "metadata": {},
   "outputs": [
    {
     "name": "stdout",
     "output_type": "stream",
     "text": [
      "foo\n",
      "bar\n",
      "baz\n"
     ]
    }
   ],
   "source": [
    "# C)\n",
    "if x < y: print('foo'); print('bar'); print('baz')"
   ]
  },
  {
   "cell_type": "code",
   "execution_count": 10,
   "metadata": {},
   "outputs": [
    {
     "ename": "SyntaxError",
     "evalue": "invalid syntax (<ipython-input-10-031d0dc814a7>, line 2)",
     "output_type": "error",
     "traceback": [
      "\u001b[1;36m  File \u001b[1;32m\"<ipython-input-10-031d0dc814a7>\"\u001b[1;36m, line \u001b[1;32m2\u001b[0m\n\u001b[1;33m    if x < y: if x > 10: print('foo')\u001b[0m\n\u001b[1;37m               ^\u001b[0m\n\u001b[1;31mSyntaxError\u001b[0m\u001b[1;31m:\u001b[0m invalid syntax\n"
     ]
    }
   ],
   "source": [
    "# D)\n",
    "if x < y: if x > 10: print('foo')"
   ]
  },
  {
   "cell_type": "markdown",
   "metadata": {},
   "source": [
    "#### Question 4"
   ]
  },
  {
   "cell_type": "markdown",
   "metadata": {},
   "source": [
    "#### Question 5"
   ]
  },
  {
   "cell_type": "markdown",
   "metadata": {
    "colab_type": "text",
    "id": "doG5282gAP5B"
   },
   "source": [
    "# Loops"
   ]
  },
  {
   "cell_type": "markdown",
   "metadata": {
    "colab_type": "text",
    "id": "XCuDeolknhD5"
   },
   "source": [
    "Looping is one of the most fundamental operations in programming, but can be tricky to learn for the first time. Python has several ways of performing loops."
   ]
  },
  {
   "cell_type": "code",
   "execution_count": 43,
   "metadata": {},
   "outputs": [
    {
     "name": "stdout",
     "output_type": "stream",
     "text": [
      "15\n"
     ]
    }
   ],
   "source": [
    "# For loop\n",
    "sum = 0\n",
    "for i in range(1,6):\n",
    "    sum = sum + i\n",
    "print(sum)"
   ]
  },
  {
   "cell_type": "code",
   "execution_count": 44,
   "metadata": {
    "colab": {},
    "colab_type": "code",
    "id": "oxbZnsS1TY8K"
   },
   "outputs": [
    {
     "name": "stdout",
     "output_type": "stream",
     "text": [
      "5\n"
     ]
    }
   ],
   "source": [
    "# While loop\n",
    "from random import *\n",
    "\n",
    "x = random()\n",
    "count = 0 # counts how many times a number larger than 0.25 is generated before the first number less than 0.5\n",
    "while x >= 0.25: # Notice that this is like saying while x is not < 0.5\n",
    "    count = count + 1\n",
    "    x = random()\n",
    "print(count)"
   ]
  },
  {
   "cell_type": "markdown",
   "metadata": {},
   "source": [
    "## Quiz 3: Loops"
   ]
  },
  {
   "cell_type": "markdown",
   "metadata": {},
   "source": [
    "#### Question 3"
   ]
  },
  {
   "cell_type": "markdown",
   "metadata": {},
   "source": [
    "#### Question 4"
   ]
  },
  {
   "cell_type": "markdown",
   "metadata": {},
   "source": [
    "### Miscellaneous Question\n",
    "How do you think the value of count will be impacted as we change the value that x is compared to? Can you calculate the Expectation of count for a given value that x is compared to? "
   ]
  },
  {
   "cell_type": "markdown",
   "metadata": {},
   "source": [
    "An important difference between for and while loops is that: <br>\n",
    "1. In a For Loop, you know exactly how many times you need the loop to run\n",
    "2. In a While Loop, the loop will run indefinitely until a condition is met. You don't need to know how many iterations are needed."
   ]
  },
  {
   "cell_type": "markdown",
   "metadata": {},
   "source": [
    "## Interview Practice Question Solutions"
   ]
  },
  {
   "cell_type": "code",
   "execution_count": null,
   "metadata": {},
   "outputs": [],
   "source": []
  },
  {
   "cell_type": "markdown",
   "metadata": {},
   "source": [
    "## Bonus Interview Questions"
   ]
  },
  {
   "cell_type": "markdown",
   "metadata": {},
   "source": [
    "**Q1** Print the Fibonacci series in Python up to a specified number n <br>\n",
    "**Fibonacci Series:** When the next number in the series is the sum of the previous two numbers. <br>\n",
    "0, 1, 1, 2, 3, 5, 8, 13, 21 ..."
   ]
  },
  {
   "cell_type": "code",
   "execution_count": null,
   "metadata": {},
   "outputs": [],
   "source": []
  },
  {
   "cell_type": "markdown",
   "metadata": {},
   "source": [
    "**Q2** Write a Python program to print all the prime numbers in an interval"
   ]
  },
  {
   "cell_type": "code",
   "execution_count": null,
   "metadata": {},
   "outputs": [],
   "source": []
  },
  {
   "cell_type": "markdown",
   "metadata": {},
   "source": [
    "**Q3** Check if a number is an Armstrong Number: <br>\n",
    " \n",
    "A positive integer of n digits is called an Armstrong number of order n (order is number of digits) if: <br>\n",
    "\n",
    "abcd... = pow(a,n) + pow(b,n) + pow(c,n) + pow(d,n) + .... <br>\n",
    "\n",
    "Example: <br>\n",
    "153 = (1 x 1 x 1) + (5 x 5 x 5) + (3 x 3 x 3) = 153"
   ]
  },
  {
   "cell_type": "code",
   "execution_count": null,
   "metadata": {},
   "outputs": [],
   "source": []
  }
 ],
 "metadata": {
  "colab": {
   "collapsed_sections": [],
   "name": "introduction_to_python.ipynb",
   "private_outputs": true,
   "provenance": [],
   "toc_visible": true,
   "version": "0.3.2"
  },
  "kernelspec": {
   "display_name": "Python 3",
   "language": "python",
   "name": "python3"
  },
  "language_info": {
   "codemirror_mode": {
    "name": "ipython",
    "version": 3
   },
   "file_extension": ".py",
   "mimetype": "text/x-python",
   "name": "python",
   "nbconvert_exporter": "python",
   "pygments_lexer": "ipython3",
   "version": "3.7.3"
  }
 },
 "nbformat": 4,
 "nbformat_minor": 1
}
